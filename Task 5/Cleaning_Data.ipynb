{
  "nbformat": 4,
  "nbformat_minor": 0,
  "metadata": {
    "colab": {
      "provenance": []
    },
    "kernelspec": {
      "name": "python3",
      "display_name": "Python 3"
    },
    "language_info": {
      "name": "python"
    }
  },
  "cells": [
    {
      "cell_type": "code",
      "execution_count": 1,
      "metadata": {
        "id": "rW2Q1kHg1Gop"
      },
      "outputs": [],
      "source": [
        "import pandas as pd\n",
        "\n",
        "# Load the dataset\n",
        "df = pd.read_csv('/content/AB_NYC_2019.csv')\n"
      ]
    },
    {
      "cell_type": "code",
      "source": [
        "# Check for any inconsistencies\n",
        "print(df.info())\n",
        "print(df.describe())"
      ],
      "metadata": {
        "colab": {
          "base_uri": "https://localhost:8080/"
        },
        "id": "TMiczFtRSyLz",
        "outputId": "8aba7ec6-d4d0-4f4b-abc1-d41c2c27504f"
      },
      "execution_count": 2,
      "outputs": [
        {
          "output_type": "stream",
          "name": "stdout",
          "text": [
            "<class 'pandas.core.frame.DataFrame'>\n",
            "RangeIndex: 29203 entries, 0 to 29202\n",
            "Data columns (total 16 columns):\n",
            " #   Column                          Non-Null Count  Dtype  \n",
            "---  ------                          --------------  -----  \n",
            " 0   id                              29203 non-null  int64  \n",
            " 1   name                            29187 non-null  object \n",
            " 2   host_id                         29202 non-null  float64\n",
            " 3   host_name                       29184 non-null  object \n",
            " 4   neighbourhood_group             29202 non-null  object \n",
            " 5   neighbourhood                   29202 non-null  object \n",
            " 6   latitude                        29202 non-null  float64\n",
            " 7   longitude                       29202 non-null  float64\n",
            " 8   room_type                       29202 non-null  object \n",
            " 9   price                           29202 non-null  float64\n",
            " 10  minimum_nights                  29202 non-null  float64\n",
            " 11  number_of_reviews               29202 non-null  float64\n",
            " 12  last_review                     24373 non-null  object \n",
            " 13  reviews_per_month               24373 non-null  float64\n",
            " 14  calculated_host_listings_count  29202 non-null  float64\n",
            " 15  availability_365                29202 non-null  float64\n",
            "dtypes: float64(9), int64(1), object(6)\n",
            "memory usage: 3.6+ MB\n",
            "None\n",
            "                 id       host_id      latitude     longitude         price  \\\n",
            "count  2.920300e+04  2.920200e+04  29202.000000  29202.000000  29202.000000   \n",
            "mean   1.141531e+07  3.418226e+07     40.729139    -73.954652    148.219095   \n",
            "std    6.882951e+06  4.006633e+07      0.053707      0.041836    226.261213   \n",
            "min    2.539000e+03  2.571000e+03     40.499790    -74.242850      0.000000   \n",
            "25%    5.371022e+06  4.843862e+06     40.689350    -73.982610     70.000000   \n",
            "50%    1.152941e+07  1.812999e+07     40.722750    -73.956745    109.000000   \n",
            "75%    1.760850e+07  4.805519e+07     40.763847    -73.939863    174.000000   \n",
            "max    2.240994e+07  1.640484e+08     40.911690    -73.712990  10000.000000   \n",
            "\n",
            "       minimum_nights  number_of_reviews  reviews_per_month  \\\n",
            "count    29202.000000       29202.000000       24373.000000   \n",
            "mean         7.061468          32.499418           1.019477   \n",
            "std         22.488124          54.200405           1.389368   \n",
            "min          1.000000           0.000000           0.010000   \n",
            "25%          2.000000           1.000000           0.110000   \n",
            "50%          3.000000           8.000000           0.400000   \n",
            "75%          5.000000          40.000000           1.430000   \n",
            "max       1250.000000         629.000000          19.750000   \n",
            "\n",
            "       calculated_host_listings_count  availability_365  \n",
            "count                    29202.000000      29202.000000  \n",
            "mean                         3.543250         99.267242  \n",
            "std                         12.108883        130.122810  \n",
            "min                          1.000000          0.000000  \n",
            "25%                          1.000000          0.000000  \n",
            "50%                          1.000000          8.000000  \n",
            "75%                          2.000000        201.000000  \n",
            "max                        232.000000        365.000000  \n"
          ]
        }
      ]
    },
    {
      "cell_type": "code",
      "source": [
        "# Check for missing values\n",
        "print(df.isnull().sum())\n",
        "\n",
        "# Import missing values for numerical columns\n",
        "df['reviews_per_month'].fillna(df['reviews_per_month'].median(), inplace=True)\n"
      ],
      "metadata": {
        "colab": {
          "base_uri": "https://localhost:8080/"
        },
        "id": "JvAOBjE91sLj",
        "outputId": "734536b8-d968-4de3-acac-284a601a9cbd"
      },
      "execution_count": 3,
      "outputs": [
        {
          "output_type": "stream",
          "name": "stdout",
          "text": [
            "id                                   0\n",
            "name                                16\n",
            "host_id                              1\n",
            "host_name                           19\n",
            "neighbourhood_group                  1\n",
            "neighbourhood                        1\n",
            "latitude                             1\n",
            "longitude                            1\n",
            "room_type                            1\n",
            "price                                1\n",
            "minimum_nights                       1\n",
            "number_of_reviews                    1\n",
            "last_review                       4830\n",
            "reviews_per_month                 4830\n",
            "calculated_host_listings_count       1\n",
            "availability_365                     1\n",
            "dtype: int64\n"
          ]
        }
      ]
    },
    {
      "cell_type": "code",
      "source": [
        "# Check for duplicates\n",
        "print(df.duplicated().sum())\n",
        "\n",
        "# Remove duplicates\n",
        "df.drop_duplicates(inplace=True)\n"
      ],
      "metadata": {
        "colab": {
          "base_uri": "https://localhost:8080/"
        },
        "id": "_HMqiUB4109r",
        "outputId": "c222cae2-e1ae-4923-a2cb-f4eba9654851"
      },
      "execution_count": 4,
      "outputs": [
        {
          "output_type": "stream",
          "name": "stdout",
          "text": [
            "0\n"
          ]
        }
      ]
    },
    {
      "cell_type": "code",
      "source": [
        "# Standardize formatting (example: converting column names to lowercase)\n",
        "df.columns = df.columns.str.lower()"
      ],
      "metadata": {
        "id": "Ml8z26Oo133j"
      },
      "execution_count": 5,
      "outputs": []
    },
    {
      "cell_type": "code",
      "source": [
        "# Visualize outliers (example: using boxplots)\n",
        "import seaborn as sns\n",
        "import matplotlib.pyplot as plt\n",
        "\n",
        "sns.boxplot(x=df['price'])\n",
        "plt.show()\n",
        "\n"
      ],
      "metadata": {
        "colab": {
          "base_uri": "https://localhost:8080/",
          "height": 449
        },
        "id": "URW5wwu317OW",
        "outputId": "ae380d18-4a6a-44c4-f248-6e861d0e794f"
      },
      "execution_count": 6,
      "outputs": [
        {
          "output_type": "display_data",
          "data": {
            "text/plain": [
              "<Figure size 640x480 with 1 Axes>"
            ],
            "image/png": "[encoded data removed]"
          },
          "metadata": {}
        }
      ]
    },
    {
      "cell_type": "code",
      "source": [
        "# Address outliers (example: removing values beyond a certain threshold)\n",
        "# Assuming 'price' has outliers\n",
        "q1 = df['price'].quantile(0.25)\n",
        "q3 = df['price'].quantile(0.75)\n",
        "iqr = q3 - q1\n",
        "lower_bound = q1 - 1.5 * iqr\n",
        "upper_bound = q3 + 1.5 * iqr\n",
        "\n",
        "df = df[(df['price'] >= lower_bound) & (df['price'] <= upper_bound)]"
      ],
      "metadata": {
        "id": "QLksjF_VS5Wv"
      },
      "execution_count": 7,
      "outputs": []
    },
    {
      "cell_type": "code",
      "source": [],
      "metadata": {
        "id": "qQpAIJMDTaj2"
      },
      "execution_count": null,
      "outputs": []
    }
  ]
}